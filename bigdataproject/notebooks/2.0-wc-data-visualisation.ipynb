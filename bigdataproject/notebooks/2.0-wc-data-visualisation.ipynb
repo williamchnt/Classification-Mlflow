{
 "cells": [
  {
   "cell_type": "code",
   "execution_count": 6,
   "metadata": {},
   "outputs": [],
   "source": [
    "import pandas as pd"
   ]
  },
  {
   "cell_type": "code",
   "execution_count": 7,
   "metadata": {},
   "outputs": [
    {
     "data": {
      "text/html": [
       "<div>\n",
       "<style scoped>\n",
       "    .dataframe tbody tr th:only-of-type {\n",
       "        vertical-align: middle;\n",
       "    }\n",
       "\n",
       "    .dataframe tbody tr th {\n",
       "        vertical-align: top;\n",
       "    }\n",
       "\n",
       "    .dataframe thead th {\n",
       "        text-align: right;\n",
       "    }\n",
       "</style>\n",
       "<table border=\"1\" class=\"dataframe\">\n",
       "  <thead>\n",
       "    <tr style=\"text-align: right;\">\n",
       "      <th></th>\n",
       "      <th>SK_ID_CURR</th>\n",
       "      <th>TARGET</th>\n",
       "      <th>CNT_CHILDREN</th>\n",
       "      <th>AMT_INCOME_TOTAL</th>\n",
       "      <th>AMT_CREDIT</th>\n",
       "      <th>AMT_ANNUITY</th>\n",
       "      <th>AMT_GOODS_PRICE</th>\n",
       "      <th>REGION_POPULATION_RELATIVE</th>\n",
       "      <th>DAYS_BIRTH</th>\n",
       "      <th>DAYS_EMPLOYED</th>\n",
       "      <th>...</th>\n",
       "      <th>HOUSETYPE_MODE_terraced house</th>\n",
       "      <th>WALLSMATERIAL_MODE_Block</th>\n",
       "      <th>WALLSMATERIAL_MODE_Mixed</th>\n",
       "      <th>WALLSMATERIAL_MODE_Monolithic</th>\n",
       "      <th>WALLSMATERIAL_MODE_Others</th>\n",
       "      <th>WALLSMATERIAL_MODE_Panel</th>\n",
       "      <th>WALLSMATERIAL_MODE_Stone, brick</th>\n",
       "      <th>WALLSMATERIAL_MODE_Wooden</th>\n",
       "      <th>EMERGENCYSTATE_MODE_No</th>\n",
       "      <th>EMERGENCYSTATE_MODE_Yes</th>\n",
       "    </tr>\n",
       "  </thead>\n",
       "  <tbody>\n",
       "    <tr>\n",
       "      <th>0</th>\n",
       "      <td>100083</td>\n",
       "      <td>0.0</td>\n",
       "      <td>0</td>\n",
       "      <td>103500.0</td>\n",
       "      <td>573628.5</td>\n",
       "      <td>24435.0</td>\n",
       "      <td>463500.0</td>\n",
       "      <td>0.00966</td>\n",
       "      <td>-15406</td>\n",
       "      <td>-892</td>\n",
       "      <td>...</td>\n",
       "      <td>0</td>\n",
       "      <td>0</td>\n",
       "      <td>0</td>\n",
       "      <td>0</td>\n",
       "      <td>0</td>\n",
       "      <td>0</td>\n",
       "      <td>1</td>\n",
       "      <td>0</td>\n",
       "      <td>1</td>\n",
       "      <td>0</td>\n",
       "    </tr>\n",
       "    <tr>\n",
       "      <th>1</th>\n",
       "      <td>100145</td>\n",
       "      <td>0.0</td>\n",
       "      <td>1</td>\n",
       "      <td>202500.0</td>\n",
       "      <td>260725.5</td>\n",
       "      <td>16789.5</td>\n",
       "      <td>198000.0</td>\n",
       "      <td>0.01884</td>\n",
       "      <td>-16282</td>\n",
       "      <td>-4375</td>\n",
       "      <td>...</td>\n",
       "      <td>0</td>\n",
       "      <td>0</td>\n",
       "      <td>0</td>\n",
       "      <td>0</td>\n",
       "      <td>0</td>\n",
       "      <td>1</td>\n",
       "      <td>0</td>\n",
       "      <td>0</td>\n",
       "      <td>1</td>\n",
       "      <td>0</td>\n",
       "    </tr>\n",
       "    <tr>\n",
       "      <th>2</th>\n",
       "      <td>100179</td>\n",
       "      <td>0.0</td>\n",
       "      <td>0</td>\n",
       "      <td>202500.0</td>\n",
       "      <td>675000.0</td>\n",
       "      <td>53329.5</td>\n",
       "      <td>675000.0</td>\n",
       "      <td>0.03134</td>\n",
       "      <td>-11375</td>\n",
       "      <td>-2311</td>\n",
       "      <td>...</td>\n",
       "      <td>0</td>\n",
       "      <td>0</td>\n",
       "      <td>0</td>\n",
       "      <td>1</td>\n",
       "      <td>0</td>\n",
       "      <td>0</td>\n",
       "      <td>0</td>\n",
       "      <td>0</td>\n",
       "      <td>1</td>\n",
       "      <td>0</td>\n",
       "    </tr>\n",
       "    <tr>\n",
       "      <th>3</th>\n",
       "      <td>100190</td>\n",
       "      <td>0.0</td>\n",
       "      <td>0</td>\n",
       "      <td>162000.0</td>\n",
       "      <td>263686.5</td>\n",
       "      <td>24781.5</td>\n",
       "      <td>238500.0</td>\n",
       "      <td>0.02263</td>\n",
       "      <td>-13972</td>\n",
       "      <td>-4472</td>\n",
       "      <td>...</td>\n",
       "      <td>0</td>\n",
       "      <td>0</td>\n",
       "      <td>0</td>\n",
       "      <td>0</td>\n",
       "      <td>0</td>\n",
       "      <td>1</td>\n",
       "      <td>0</td>\n",
       "      <td>0</td>\n",
       "      <td>1</td>\n",
       "      <td>0</td>\n",
       "    </tr>\n",
       "    <tr>\n",
       "      <th>4</th>\n",
       "      <td>100295</td>\n",
       "      <td>1.0</td>\n",
       "      <td>1</td>\n",
       "      <td>225000.0</td>\n",
       "      <td>1019205.0</td>\n",
       "      <td>31032.0</td>\n",
       "      <td>774000.0</td>\n",
       "      <td>0.07250</td>\n",
       "      <td>-11356</td>\n",
       "      <td>-602</td>\n",
       "      <td>...</td>\n",
       "      <td>0</td>\n",
       "      <td>0</td>\n",
       "      <td>0</td>\n",
       "      <td>0</td>\n",
       "      <td>0</td>\n",
       "      <td>1</td>\n",
       "      <td>0</td>\n",
       "      <td>0</td>\n",
       "      <td>1</td>\n",
       "      <td>0</td>\n",
       "    </tr>\n",
       "  </tbody>\n",
       "</table>\n",
       "<p>5 rows × 246 columns</p>\n",
       "</div>"
      ],
      "text/plain": [
       "   SK_ID_CURR  TARGET  CNT_CHILDREN  AMT_INCOME_TOTAL  AMT_CREDIT  \\\n",
       "0      100083     0.0             0          103500.0    573628.5   \n",
       "1      100145     0.0             1          202500.0    260725.5   \n",
       "2      100179     0.0             0          202500.0    675000.0   \n",
       "3      100190     0.0             0          162000.0    263686.5   \n",
       "4      100295     1.0             1          225000.0   1019205.0   \n",
       "\n",
       "   AMT_ANNUITY  AMT_GOODS_PRICE  REGION_POPULATION_RELATIVE  DAYS_BIRTH  \\\n",
       "0      24435.0         463500.0                     0.00966      -15406   \n",
       "1      16789.5         198000.0                     0.01884      -16282   \n",
       "2      53329.5         675000.0                     0.03134      -11375   \n",
       "3      24781.5         238500.0                     0.02263      -13972   \n",
       "4      31032.0         774000.0                     0.07250      -11356   \n",
       "\n",
       "   DAYS_EMPLOYED  ...  HOUSETYPE_MODE_terraced house  \\\n",
       "0           -892  ...                              0   \n",
       "1          -4375  ...                              0   \n",
       "2          -2311  ...                              0   \n",
       "3          -4472  ...                              0   \n",
       "4           -602  ...                              0   \n",
       "\n",
       "   WALLSMATERIAL_MODE_Block  WALLSMATERIAL_MODE_Mixed  \\\n",
       "0                         0                         0   \n",
       "1                         0                         0   \n",
       "2                         0                         0   \n",
       "3                         0                         0   \n",
       "4                         0                         0   \n",
       "\n",
       "   WALLSMATERIAL_MODE_Monolithic  WALLSMATERIAL_MODE_Others  \\\n",
       "0                              0                          0   \n",
       "1                              0                          0   \n",
       "2                              1                          0   \n",
       "3                              0                          0   \n",
       "4                              0                          0   \n",
       "\n",
       "   WALLSMATERIAL_MODE_Panel  WALLSMATERIAL_MODE_Stone, brick  \\\n",
       "0                         0                                1   \n",
       "1                         1                                0   \n",
       "2                         0                                0   \n",
       "3                         1                                0   \n",
       "4                         1                                0   \n",
       "\n",
       "   WALLSMATERIAL_MODE_Wooden  EMERGENCYSTATE_MODE_No  EMERGENCYSTATE_MODE_Yes  \n",
       "0                          0                       1                        0  \n",
       "1                          0                       1                        0  \n",
       "2                          0                       1                        0  \n",
       "3                          0                       1                        0  \n",
       "4                          0                       1                        0  \n",
       "\n",
       "[5 rows x 246 columns]"
      ]
     },
     "execution_count": 7,
     "metadata": {},
     "output_type": "execute_result"
    }
   ],
   "source": [
    "# load the data\n",
    "df_train = pd.read_csv('../data/processed/application_train.csv')\n",
    "df_test = pd.read_csv('../data/processed/application_test.csv')\n",
    "\n",
    "# join the data\n",
    "df = pd.concat([df_train, df_test], axis=0)\n",
    "\n",
    "# check the data\n",
    "df.head()"
   ]
  },
  {
   "cell_type": "code",
   "execution_count": 8,
   "metadata": {},
   "outputs": [
    {
     "name": "stdout",
     "output_type": "stream",
     "text": [
      "0.0    8076\n",
      "1.0     526\n",
      "Name: TARGET, dtype: int64\n"
     ]
    },
    {
     "name": "stderr",
     "output_type": "stream",
     "text": [
      "c:\\Users\\nostr\\anaconda3\\lib\\site-packages\\seaborn\\_decorators.py:36: FutureWarning: Pass the following variable as a keyword arg: x. From version 0.12, the only valid positional argument will be `data`, and passing other arguments without an explicit keyword will result in an error or misinterpretation.\n",
      "  warnings.warn(\n"
     ]
    },
    {
     "data": {
      "text/plain": [
       "<AxesSubplot:xlabel='TARGET', ylabel='count'>"
      ]
     },
     "execution_count": 8,
     "metadata": {},
     "output_type": "execute_result"
    },
    {
     "data": {
      "image/png": "[encoded data removed]",
      "text/plain": [
       "<Figure size 432x288 with 1 Axes>"
      ]
     },
     "metadata": {
      "needs_background": "light"
     },
     "output_type": "display_data"
    }
   ],
   "source": [
    "# matplotlib and seaborn for plotting\n",
    "import matplotlib.pyplot as plt\n",
    "import seaborn as sns\n",
    "\n",
    "# print class distribution\n",
    "print(df['TARGET'].value_counts())\n",
    "\n",
    "# plot class distribution\n",
    "sns.countplot(df['TARGET'])"
   ]
  },
  {
   "cell_type": "code",
   "execution_count": 9,
   "metadata": {},
   "outputs": [
    {
     "data": {
      "text/plain": [
       "<AxesSubplot:ylabel='TARGET'>"
      ]
     },
     "execution_count": 9,
     "metadata": {},
     "output_type": "execute_result"
    },
    {
     "data": {
      "image/png": "[encoded data removed]",
      "text/plain": [
       "<Figure size 432x288 with 1 Axes>"
      ]
     },
     "metadata": {},
     "output_type": "display_data"
    }
   ],
   "source": [
    "# pie chart\n",
    "df['TARGET'].value_counts().plot.pie(autopct='%1.1f%%')"
   ]
  },
  {
   "cell_type": "code",
   "execution_count": 10,
   "metadata": {},
   "outputs": [
    {
     "data": {
      "image/png": "[encoded data removed]",
      "text/plain": [
       "<Figure size 432x288 with 1 Axes>"
      ]
     },
     "metadata": {
      "needs_background": "light"
     },
     "output_type": "display_data"
    }
   ],
   "source": [
    "plt.hist(df['DAYS_BIRTH'].values/-365, bins=10, edgecolor='black', color='#80489C')\n",
    "plt.title('Age of Client (in years) at the time of Application')\n",
    "plt.xlabel('Age Bucket')\n",
    "plt.ylabel('Number of Clients')\n",
    "plt.show()"
   ]
  },
  {
   "cell_type": "code",
   "execution_count": 11,
   "metadata": {},
   "outputs": [
    {
     "data": {
      "text/plain": [
       "array([42.20821918, 44.60821918, 31.16438356, ..., 38.37534247,\n",
       "       55.46849315, 38.64657534])"
      ]
     },
     "execution_count": 11,
     "metadata": {},
     "output_type": "execute_result"
    }
   ],
   "source": [
    "capable_days_birth = df[df['TARGET'] == 0]['DAYS_BIRTH'].values/-365\n",
    "capable_days_birth"
   ]
  },
  {
   "cell_type": "code",
   "execution_count": 12,
   "metadata": {},
   "outputs": [
    {
     "data": {
      "image/png": "[encoded data removed]",
      "text/plain": [
       "<Figure size 720x216 with 1 Axes>"
      ]
     },
     "metadata": {
      "needs_background": "light"
     },
     "output_type": "display_data"
    }
   ],
   "source": [
    "plt.figure(figsize=(10,3))\n",
    "plt.hist(capable_days_birth, bins=10, edgecolor='black', color='#FF8FB1')\n",
    "plt.title('Age of Client (in years) deemed Capable at the time of Application')\n",
    "plt.xlabel('Age Bucket')\n",
    "plt.ylabel('Number of Clients')\n",
    "plt.show()"
   ]
  },
  {
   "cell_type": "code",
   "execution_count": 13,
   "metadata": {},
   "outputs": [
    {
     "data": {
      "text/plain": [
       "array([31.11232877, 22.09041096, 51.34246575, 37.91780822, 28.9890411 ,\n",
       "       50.54246575, 38.18082192, 34.29589041, 27.42465753, 48.17534247,\n",
       "       33.02465753, 38.07123288, 30.92054795, 52.54246575, 55.98082192,\n",
       "       25.65479452, 38.84109589, 43.42191781, 39.21643836, 33.73972603,\n",
       "       30.75890411, 36.94246575, 33.94520548, 25.24109589, 44.10958904,\n",
       "       27.34794521, 26.43013699, 54.69589041, 32.58356164, 34.8       ,\n",
       "       41.90684932, 33.19178082, 38.26027397, 53.77808219, 37.42739726,\n",
       "       45.88219178, 37.36986301, 42.55616438, 27.83013699, 42.47671233,\n",
       "       27.23013699, 31.9260274 , 27.06575342, 31.98630137, 28.43287671,\n",
       "       34.74520548, 38.30136986, 23.95342466, 37.05479452, 29.73150685,\n",
       "       21.81369863, 44.17808219, 22.28219178, 46.99178082, 35.76164384,\n",
       "       38.93424658, 23.94520548, 26.90684932, 41.05205479, 30.2630137 ,\n",
       "       24.29315068, 37.22465753, 49.43287671, 38.99726027, 37.93150685,\n",
       "       51.00273973, 34.70136986, 32.63287671, 42.27123288, 38.75342466,\n",
       "       40.11780822, 31.98082192, 30.27945205, 34.71780822, 36.08219178,\n",
       "       47.96986301, 38.99726027, 36.12876712, 32.46849315, 43.94520548,\n",
       "       35.96164384, 43.87671233, 40.06849315, 40.14246575, 44.46575342,\n",
       "       40.12054795, 24.70684932, 46.6       , 44.14794521, 40.16438356,\n",
       "       28.59452055, 40.70410959, 46.57534247, 35.54520548, 41.07671233,\n",
       "       27.36438356, 32.93150685, 37.64931507, 46.29863014, 25.41643836,\n",
       "       33.3369863 , 48.49315068, 43.24931507, 38.40821918, 33.30958904,\n",
       "       27.04109589, 60.76164384, 33.59452055, 28.07123288, 26.17808219,\n",
       "       28.09315068, 38.32876712, 33.49589041, 35.26027397, 28.6109589 ,\n",
       "       35.23561644, 28.90410959, 27.49863014, 31.51506849, 25.43013699,\n",
       "       60.71232877, 53.6       , 39.26575342, 28.08767123, 32.8630137 ,\n",
       "       39.37808219, 36.23835616, 44.10136986, 39.70410959, 25.27123288,\n",
       "       27.28219178, 45.49589041, 33.65205479, 37.89041096, 52.45753425,\n",
       "       32.8739726 , 37.99452055, 36.90958904, 45.93972603, 29.11506849,\n",
       "       42.54520548, 55.32876712, 28.24657534, 26.51780822, 46.74246575,\n",
       "       53.8630137 , 40.86027397, 37.45753425, 38.5369863 , 31.31506849,\n",
       "       31.23013699, 40.21917808, 32.55616438, 42.35342466, 36.90684932,\n",
       "       25.14794521, 53.02739726, 29.09041096, 42.31780822, 27.35616438,\n",
       "       41.43287671, 25.82191781, 28.84109589, 42.66575342, 28.28219178,\n",
       "       56.11506849, 27.61917808, 32.86027397, 24.06575342, 29.74246575,\n",
       "       38.8109589 , 47.98356164, 38.77260274, 30.97808219, 32.87123288,\n",
       "       31.31506849, 37.74794521, 47.52054795, 34.63561644, 25.25479452,\n",
       "       29.19452055, 53.3890411 , 33.9260274 , 53.96438356, 36.14520548,\n",
       "       27.68493151, 29.25205479, 41.2109589 , 32.26027397, 54.32328767,\n",
       "       51.12876712, 43.34794521, 38.02465753, 47.68219178, 40.94520548,\n",
       "       44.53972603, 30.13150685, 40.95342466, 48.49041096, 38.95890411,\n",
       "       37.17260274, 34.11780822, 30.16438356, 40.10684932, 31.61917808,\n",
       "       36.83013699, 25.63287671, 26.31506849, 54.9369863 , 40.14794521,\n",
       "       40.62465753, 39.71506849, 27.71780822, 36.59452055, 32.43013699,\n",
       "       35.70136986, 24.1260274 , 33.10684932, 44.79178082, 38.62465753,\n",
       "       46.75068493, 27.00547945, 29.2739726 , 51.28493151, 29.31780822,\n",
       "       34.48767123, 61.25753425, 39.50684932, 38.66027397, 22.69315068,\n",
       "       31.16986301, 35.37808219, 41.07123288, 26.43561644, 29.26027397,\n",
       "       47.72054795, 31.71506849, 35.89315068, 27.79452055, 51.94520548,\n",
       "       37.64109589, 39.44109589, 36.73150685, 57.49589041, 31.33424658,\n",
       "       44.81917808, 31.65205479, 29.27945205, 38.90410959, 29.71506849,\n",
       "       50.49589041, 47.22465753, 45.35890411, 53.28767123, 28.38082192,\n",
       "       24.02465753, 50.89041096, 42.17260274, 27.19452055, 34.14246575,\n",
       "       26.03287671, 32.85205479, 44.50958904, 54.3890411 , 40.77534247,\n",
       "       41.73150685, 22.61917808, 28.09041096, 27.82465753, 35.78630137,\n",
       "       40.49589041, 27.88493151, 39.14246575, 32.21643836, 34.87945205,\n",
       "       44.81369863, 28.54520548, 38.02191781, 30.45479452, 25.25205479,\n",
       "       28.44931507, 42.47123288, 44.63835616, 35.87671233, 23.5369863 ,\n",
       "       48.04109589, 42.93972603, 28.27945205, 48.62739726, 34.84383562,\n",
       "       31.4630137 , 46.        , 35.06027397, 35.58630137, 25.99178082,\n",
       "       30.72876712, 37.82465753, 38.50684932, 31.45753425, 37.86575342,\n",
       "       37.16712329, 34.07945205, 31.68493151, 33.84931507, 38.13424658,\n",
       "       37.52876712, 32.77260274, 31.80821918, 43.86849315, 57.38356164,\n",
       "       44.46027397, 29.16164384, 64.19178082, 30.44109589, 41.37534247,\n",
       "       36.50684932, 31.60547945, 30.62191781, 34.73424658, 47.44657534,\n",
       "       41.84383562, 31.64657534, 38.26027397, 36.65753425, 44.16438356,\n",
       "       31.25479452, 30.79178082, 36.94246575, 43.61643836, 39.23835616,\n",
       "       42.08493151, 46.44109589, 42.14520548, 63.00821918, 39.21917808,\n",
       "       43.69315068, 30.71506849, 52.78630137, 23.3890411 , 42.55068493,\n",
       "       35.1890411 , 32.81917808, 39.44109589, 36.26027397, 27.95616438,\n",
       "       42.85205479, 32.36712329, 29.27671233, 26.62191781, 40.29315068,\n",
       "       40.99178082, 41.94794521, 28.66849315, 25.85479452, 28.39178082,\n",
       "       27.8109589 , 26.88493151, 24.80273973, 49.83835616, 54.13972603,\n",
       "       50.2630137 , 25.51506849, 58.8739726 , 27.27945205, 37.33972603,\n",
       "       39.54246575, 34.9890411 , 51.69315068, 54.20821918, 25.56164384,\n",
       "       28.55616438, 36.06849315, 38.07123288, 53.15616438, 30.7890411 ,\n",
       "       29.00273973, 49.62465753, 38.32876712, 46.37260274, 28.97808219,\n",
       "       47.        , 36.11506849, 51.69863014, 49.35068493, 47.33424658,\n",
       "       27.54520548, 40.39178082, 35.67123288, 51.48219178, 36.23835616,\n",
       "       34.42465753, 35.20547945, 27.93972603, 49.4630137 , 52.5890411 ,\n",
       "       28.72876712, 53.65753425, 36.01917808, 30.86575342, 23.49589041,\n",
       "       32.42739726, 32.01643836, 31.25479452, 29.58082192, 35.8630137 ,\n",
       "       39.1369863 , 42.46575342, 47.17534247, 35.58356164, 25.60547945,\n",
       "       31.84931507, 30.28493151, 26.81917808, 38.15616438, 58.56438356,\n",
       "       43.26575342, 26.9890411 , 30.14246575, 35.17808219, 23.95890411,\n",
       "       36.20273973, 32.75068493, 38.60547945, 56.05479452, 33.08767123,\n",
       "       25.30410959, 37.57534247, 38.4739726 , 23.36438356, 35.28767123,\n",
       "       31.86849315, 30.49589041, 38.97260274, 26.16986301, 56.48219178,\n",
       "       28.91232877, 25.60273973, 36.95068493, 51.24109589, 33.6630137 ,\n",
       "       31.56438356, 28.24109589, 39.73150685, 30.7890411 , 36.43561644,\n",
       "       28.79726027, 54.80547945, 37.18630137, 31.39452055, 53.41643836,\n",
       "       41.41643836, 49.39178082, 44.28219178, 27.53150685, 30.95890411,\n",
       "       33.09041096, 29.92328767, 57.56712329, 36.61917808, 33.86575342,\n",
       "       27.95616438, 45.68219178, 42.08219178, 31.52054795, 35.88493151,\n",
       "       38.42739726, 44.74794521, 30.57534247, 27.14520548, 30.54520548,\n",
       "       46.26575342, 31.92054795, 40.38356164, 38.09863014, 27.63835616,\n",
       "       48.65205479, 44.12876712, 44.19452055, 59.69315068, 48.70410959,\n",
       "       33.33424658, 27.7890411 , 38.03561644, 52.29589041, 39.65479452,\n",
       "       30.61643836, 38.05479452, 29.55616438, 27.62465753, 49.07123288,\n",
       "       34.4630137 , 58.20273973, 50.        , 59.66027397, 56.67945205,\n",
       "       27.7890411 , 44.35890411, 43.6630137 , 53.24109589, 55.12876712,\n",
       "       27.99452055, 23.51232877, 37.4630137 , 39.3890411 , 41.43013699,\n",
       "       51.43835616, 48.18630137, 56.5260274 , 38.15890411, 33.29589041,\n",
       "       43.06849315, 28.24931507, 33.05479452, 32.97260274, 22.24383562,\n",
       "       41.28219178, 52.16712329, 48.26027397, 30.49041096, 36.99726027,\n",
       "       35.94520548, 40.4630137 , 33.54246575, 29.32876712, 37.67945205,\n",
       "       31.25205479])"
      ]
     },
     "execution_count": 13,
     "metadata": {},
     "output_type": "execute_result"
    }
   ],
   "source": [
    "not_capable_days_birth = df[df['TARGET'] == 1]['DAYS_BIRTH'].values/-365\n",
    "not_capable_days_birth"
   ]
  },
  {
   "cell_type": "code",
   "execution_count": 14,
   "metadata": {},
   "outputs": [
    {
     "data": {
      "image/png": "[encoded data removed]",
      "text/plain": [
       "<Figure size 720x216 with 1 Axes>"
      ]
     },
     "metadata": {
      "needs_background": "light"
     },
     "output_type": "display_data"
    }
   ],
   "source": [
    "plt.figure(figsize=(10,3))\n",
    "plt.hist(not_capable_days_birth, bins=10, edgecolor='black', color='#FCE2DB')\n",
    "plt.title('Age of Client (in years) deemed Not Capable at the time of Application')\n",
    "plt.xlabel('Age Bucket')\n",
    "plt.ylabel('Number of Clients')\n",
    "plt.show()"
   ]
  },
  {
   "cell_type": "code",
   "execution_count": 15,
   "metadata": {},
   "outputs": [],
   "source": [
    "capable_days_employed = df[df['TARGET']==0]['DAYS_EMPLOYED'].values / 365\n",
    "not_capable_days_employed = df[df['TARGET']==1]['DAYS_EMPLOYED'].values / 365"
   ]
  },
  {
   "cell_type": "code",
   "execution_count": 16,
   "metadata": {},
   "outputs": [
    {
     "data": {
      "image/png": "[encoded data removed]",
      "text/plain": [
       "<Figure size 720x216 with 1 Axes>"
      ]
     },
     "metadata": {
      "needs_background": "light"
     },
     "output_type": "display_data"
    }
   ],
   "source": [
    "plt.figure(figsize=(10,3))\n",
    "plt.hist(df['DAYS_EMPLOYED'].values / 365, bins=10, edgecolor='#80489C')\n",
    "plt.title('Employment (in years) at the time of Application')\n",
    "plt.xlabel('Employment years bucket')\n",
    "plt.ylabel('Number of Clients')\n",
    "plt.show()"
   ]
  },
  {
   "cell_type": "code",
   "execution_count": 17,
   "metadata": {},
   "outputs": [
    {
     "data": {
      "text/plain": [
       "0"
      ]
     },
     "execution_count": 17,
     "metadata": {},
     "output_type": "execute_result"
    }
   ],
   "source": [
    "# find the number of records where DAYS_EMPLOYED is between [900,1100] years. \n",
    "thousand_anomalies = df[(df['DAYS_EMPLOYED']/365>=900) & (df['DAYS_EMPLOYED']/365<=1100)]\n",
    "len(thousand_anomalies)"
   ]
  },
  {
   "cell_type": "code",
   "execution_count": 18,
   "metadata": {},
   "outputs": [
    {
     "data": {
      "image/png": "[encoded data removed]",
      "text/plain": [
       "<Figure size 720x216 with 1 Axes>"
      ]
     },
     "metadata": {
      "needs_background": "light"
     },
     "output_type": "display_data"
    }
   ],
   "source": [
    "plt.figure(figsize=(10,3))\n",
    "plt.hist(capable_days_employed, bins=10, edgecolor='black', color='#FF8FB1')\n",
    "plt.title('Employment (in years) deemed Capable at the time of Application')\n",
    "plt.xlabel('Employment years bucket')\n",
    "plt.ylabel('Number of Clients')\n",
    "plt.show()"
   ]
  },
  {
   "cell_type": "code",
   "execution_count": 19,
   "metadata": {},
   "outputs": [
    {
     "data": {
      "image/png": "[encoded data removed]",
      "text/plain": [
       "<Figure size 720x216 with 1 Axes>"
      ]
     },
     "metadata": {
      "needs_background": "light"
     },
     "output_type": "display_data"
    }
   ],
   "source": [
    "plt.figure(figsize=(10,3))\n",
    "plt.hist(not_capable_days_employed, bins=10, edgecolor='black', color='#FCE2DB')\n",
    "plt.title('Employment (in years) deemed Not Capable at the time of Application')\n",
    "plt.xlabel('Employment years bucket')\n",
    "plt.ylabel('Number of Clients')\n",
    "plt.show()"
   ]
  }
 ],
 "metadata": {
  "kernelspec": {
   "display_name": "Python 3.9.12 ('base')",
   "language": "python",
   "name": "python3"
  },
  "language_info": {
   "codemirror_mode": {
    "name": "ipython",
    "version": 3
   },
   "file_extension": ".py",
   "mimetype": "text/x-python",
   "name": "python",
   "nbconvert_exporter": "python",
   "pygments_lexer": "ipython3",
   "version": "3.9.12"
  },
  "orig_nbformat": 4,
  "vscode": {
   "interpreter": {
    "hash": "5c6a328c3dae7a0c12012862982ee9605db1881d32a9f60b075ff1e1dc4cc909"
   }
  }
 },
 "nbformat": 4,
 "nbformat_minor": 2
}
